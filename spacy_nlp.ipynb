{
 "cells": [
  {
   "metadata": {},
   "cell_type": "markdown",
   "source": "## Load Model",
   "id": "14a1a38bbe189d78"
  },
  {
   "cell_type": "code",
   "id": "initial_id",
   "metadata": {
    "collapsed": true,
    "ExecuteTime": {
     "end_time": "2025-09-07T01:52:44.658225Z",
     "start_time": "2025-09-07T01:52:44.241300Z"
    }
   },
   "source": [
    "import spacy\n",
    "\n",
    "nlp = spacy.load('en_core_web_sm')"
   ],
   "outputs": [],
   "execution_count": 24
  },
  {
   "metadata": {},
   "cell_type": "markdown",
   "source": "## Read Data",
   "id": "47e6d554557b7c51"
  },
  {
   "metadata": {
    "ExecuteTime": {
     "end_time": "2025-09-07T01:52:44.673476Z",
     "start_time": "2025-09-07T01:52:44.665939Z"
    }
   },
   "cell_type": "code",
   "source": [
    "import pandas as pd\n",
    "import os\n",
    "\n",
    "def read_folder(path_to_folder):\n",
    "    data_list = []\n",
    "    try:\n",
    "        filenames = [f for f in os.listdir(path_to_folder) if f.endswith('.txt')]\n",
    "        for filename in filenames:\n",
    "            full_path = os.path.join(path_to_folder, filename)\n",
    "            temp_df = pd.read_csv(full_path, sep='\\t', header=None, names=['texto'])\n",
    "\n",
    "            # Adicione o DataFrame lido à nossa lista\n",
    "            data_list.append(temp_df)\n",
    "\n",
    "        # 4. Concatene todos os DataFrames da lista em um único DataFrame final\n",
    "        if data_list:\n",
    "            final_df = pd.concat(data_list, ignore_index=True)\n",
    "            print(\"Arquivos lidos com sucesso!\")\n",
    "            return final_df\n",
    "        else:\n",
    "            print(f\"Nenhum arquivo .txt encontrado no diretório: {path_to_folder}\")\n",
    "\n",
    "    except FileNotFoundError:\n",
    "        print(f\"Erro: O diretório não foi encontrado em '{path_to_folder}'\")\n",
    "    except Exception as e:\n",
    "        print(f\"Ocorreu um erro inesperado: {e}\")"
   ],
   "id": "f2cbd40d24467b07",
   "outputs": [],
   "execution_count": 25
  },
  {
   "metadata": {
    "ExecuteTime": {
     "end_time": "2025-09-07T01:55:35.812274Z",
     "start_time": "2025-09-07T01:52:44.689385Z"
    }
   },
   "cell_type": "code",
   "source": [
    "path_to_folder = 'data/train/neg/'\n",
    "df_neg = read_folder(path_to_folder)\n",
    "path_to_folder = 'data/train/pos/'\n",
    "df_pos = read_folder(path_to_folder)"
   ],
   "id": "760ea3cfb4866387",
   "outputs": [
    {
     "name": "stdout",
     "output_type": "stream",
     "text": [
      "Arquivos lidos com sucesso!\n",
      "Arquivos lidos com sucesso!\n"
     ]
    }
   ],
   "execution_count": 26
  },
  {
   "metadata": {},
   "cell_type": "markdown",
   "source": "## Add target",
   "id": "79ecdad24bb8e6ee"
  },
  {
   "metadata": {
    "ExecuteTime": {
     "end_time": "2025-09-07T01:55:35.857774Z",
     "start_time": "2025-09-07T01:55:35.843143Z"
    }
   },
   "cell_type": "code",
   "source": [
    "df_pos['sentiment'] = 1\n",
    "df_pos"
   ],
   "id": "6ecd0e49c5ab95ea",
   "outputs": [
    {
     "data": {
      "text/plain": [
       "                                                   texto  sentiment\n",
       "0      Bromwell High is a cartoon comedy. It ran at t...          1\n",
       "1      Homelessness (or Houselessness as George Carli...          1\n",
       "2      Brilliant over-acting by Lesley Ann Warren. Be...          1\n",
       "3      This is easily the most underrated film inn th...          1\n",
       "4      This is not the typical Mel Brooks film. It wa...          1\n",
       "...                                                  ...        ...\n",
       "12495  Seeing as the vote average was pretty low, and...          1\n",
       "12496  The plot had some wretched, unbelievable twist...          1\n",
       "12497  I am amazed at how this movie(and most others ...          1\n",
       "12498  A Christmas Together actually came before my t...          1\n",
       "12499  Working-class romantic drama from director Mar...          1\n",
       "\n",
       "[12500 rows x 2 columns]"
      ],
      "text/html": [
       "<div>\n",
       "<style scoped>\n",
       "    .dataframe tbody tr th:only-of-type {\n",
       "        vertical-align: middle;\n",
       "    }\n",
       "\n",
       "    .dataframe tbody tr th {\n",
       "        vertical-align: top;\n",
       "    }\n",
       "\n",
       "    .dataframe thead th {\n",
       "        text-align: right;\n",
       "    }\n",
       "</style>\n",
       "<table border=\"1\" class=\"dataframe\">\n",
       "  <thead>\n",
       "    <tr style=\"text-align: right;\">\n",
       "      <th></th>\n",
       "      <th>texto</th>\n",
       "      <th>sentiment</th>\n",
       "    </tr>\n",
       "  </thead>\n",
       "  <tbody>\n",
       "    <tr>\n",
       "      <th>0</th>\n",
       "      <td>Bromwell High is a cartoon comedy. It ran at t...</td>\n",
       "      <td>1</td>\n",
       "    </tr>\n",
       "    <tr>\n",
       "      <th>1</th>\n",
       "      <td>Homelessness (or Houselessness as George Carli...</td>\n",
       "      <td>1</td>\n",
       "    </tr>\n",
       "    <tr>\n",
       "      <th>2</th>\n",
       "      <td>Brilliant over-acting by Lesley Ann Warren. Be...</td>\n",
       "      <td>1</td>\n",
       "    </tr>\n",
       "    <tr>\n",
       "      <th>3</th>\n",
       "      <td>This is easily the most underrated film inn th...</td>\n",
       "      <td>1</td>\n",
       "    </tr>\n",
       "    <tr>\n",
       "      <th>4</th>\n",
       "      <td>This is not the typical Mel Brooks film. It wa...</td>\n",
       "      <td>1</td>\n",
       "    </tr>\n",
       "    <tr>\n",
       "      <th>...</th>\n",
       "      <td>...</td>\n",
       "      <td>...</td>\n",
       "    </tr>\n",
       "    <tr>\n",
       "      <th>12495</th>\n",
       "      <td>Seeing as the vote average was pretty low, and...</td>\n",
       "      <td>1</td>\n",
       "    </tr>\n",
       "    <tr>\n",
       "      <th>12496</th>\n",
       "      <td>The plot had some wretched, unbelievable twist...</td>\n",
       "      <td>1</td>\n",
       "    </tr>\n",
       "    <tr>\n",
       "      <th>12497</th>\n",
       "      <td>I am amazed at how this movie(and most others ...</td>\n",
       "      <td>1</td>\n",
       "    </tr>\n",
       "    <tr>\n",
       "      <th>12498</th>\n",
       "      <td>A Christmas Together actually came before my t...</td>\n",
       "      <td>1</td>\n",
       "    </tr>\n",
       "    <tr>\n",
       "      <th>12499</th>\n",
       "      <td>Working-class romantic drama from director Mar...</td>\n",
       "      <td>1</td>\n",
       "    </tr>\n",
       "  </tbody>\n",
       "</table>\n",
       "<p>12500 rows × 2 columns</p>\n",
       "</div>"
      ]
     },
     "execution_count": 27,
     "metadata": {},
     "output_type": "execute_result"
    }
   ],
   "execution_count": 27
  },
  {
   "metadata": {
    "ExecuteTime": {
     "end_time": "2025-09-07T01:55:35.903898Z",
     "start_time": "2025-09-07T01:55:35.888861Z"
    }
   },
   "cell_type": "code",
   "source": [
    "df_neg['sentiment'] = 0\n",
    "df_neg"
   ],
   "id": "79a7ece413ed5426",
   "outputs": [
    {
     "data": {
      "text/plain": [
       "                                                   texto  sentiment\n",
       "0      Story of a man who has unnatural feelings for ...          0\n",
       "1      Airport '77 starts as a brand new luxury 747 p...          0\n",
       "2      This film lacked something I couldn't put my f...          0\n",
       "3      Sorry everyone,,, I know this is supposed to b...          0\n",
       "4      When I was little my parents took me along to ...          0\n",
       "...                                                  ...        ...\n",
       "12495  Towards the end of the movie, I felt it was to...          0\n",
       "12496  This is the kind of movie that my enemies cont...          0\n",
       "12497  I saw 'Descent' last night at the Stockholm Fi...          0\n",
       "12498  Some films that you pick up for a pound turn o...          0\n",
       "12499  This is one of the dumbest films, I've ever se...          0\n",
       "\n",
       "[12500 rows x 2 columns]"
      ],
      "text/html": [
       "<div>\n",
       "<style scoped>\n",
       "    .dataframe tbody tr th:only-of-type {\n",
       "        vertical-align: middle;\n",
       "    }\n",
       "\n",
       "    .dataframe tbody tr th {\n",
       "        vertical-align: top;\n",
       "    }\n",
       "\n",
       "    .dataframe thead th {\n",
       "        text-align: right;\n",
       "    }\n",
       "</style>\n",
       "<table border=\"1\" class=\"dataframe\">\n",
       "  <thead>\n",
       "    <tr style=\"text-align: right;\">\n",
       "      <th></th>\n",
       "      <th>texto</th>\n",
       "      <th>sentiment</th>\n",
       "    </tr>\n",
       "  </thead>\n",
       "  <tbody>\n",
       "    <tr>\n",
       "      <th>0</th>\n",
       "      <td>Story of a man who has unnatural feelings for ...</td>\n",
       "      <td>0</td>\n",
       "    </tr>\n",
       "    <tr>\n",
       "      <th>1</th>\n",
       "      <td>Airport '77 starts as a brand new luxury 747 p...</td>\n",
       "      <td>0</td>\n",
       "    </tr>\n",
       "    <tr>\n",
       "      <th>2</th>\n",
       "      <td>This film lacked something I couldn't put my f...</td>\n",
       "      <td>0</td>\n",
       "    </tr>\n",
       "    <tr>\n",
       "      <th>3</th>\n",
       "      <td>Sorry everyone,,, I know this is supposed to b...</td>\n",
       "      <td>0</td>\n",
       "    </tr>\n",
       "    <tr>\n",
       "      <th>4</th>\n",
       "      <td>When I was little my parents took me along to ...</td>\n",
       "      <td>0</td>\n",
       "    </tr>\n",
       "    <tr>\n",
       "      <th>...</th>\n",
       "      <td>...</td>\n",
       "      <td>...</td>\n",
       "    </tr>\n",
       "    <tr>\n",
       "      <th>12495</th>\n",
       "      <td>Towards the end of the movie, I felt it was to...</td>\n",
       "      <td>0</td>\n",
       "    </tr>\n",
       "    <tr>\n",
       "      <th>12496</th>\n",
       "      <td>This is the kind of movie that my enemies cont...</td>\n",
       "      <td>0</td>\n",
       "    </tr>\n",
       "    <tr>\n",
       "      <th>12497</th>\n",
       "      <td>I saw 'Descent' last night at the Stockholm Fi...</td>\n",
       "      <td>0</td>\n",
       "    </tr>\n",
       "    <tr>\n",
       "      <th>12498</th>\n",
       "      <td>Some films that you pick up for a pound turn o...</td>\n",
       "      <td>0</td>\n",
       "    </tr>\n",
       "    <tr>\n",
       "      <th>12499</th>\n",
       "      <td>This is one of the dumbest films, I've ever se...</td>\n",
       "      <td>0</td>\n",
       "    </tr>\n",
       "  </tbody>\n",
       "</table>\n",
       "<p>12500 rows × 2 columns</p>\n",
       "</div>"
      ]
     },
     "execution_count": 28,
     "metadata": {},
     "output_type": "execute_result"
    }
   ],
   "execution_count": 28
  },
  {
   "metadata": {},
   "cell_type": "markdown",
   "source": "## Concat data",
   "id": "4802e5b51be2b730"
  },
  {
   "metadata": {
    "ExecuteTime": {
     "end_time": "2025-09-07T01:55:35.981498Z",
     "start_time": "2025-09-07T01:55:35.967907Z"
    }
   },
   "cell_type": "code",
   "source": [
    "df = pd.concat([df_neg, df_pos], ignore_index=True)\n",
    "df"
   ],
   "id": "f043f681a8d2deb5",
   "outputs": [
    {
     "data": {
      "text/plain": [
       "                                                   texto  sentiment\n",
       "0      Story of a man who has unnatural feelings for ...          0\n",
       "1      Airport '77 starts as a brand new luxury 747 p...          0\n",
       "2      This film lacked something I couldn't put my f...          0\n",
       "3      Sorry everyone,,, I know this is supposed to b...          0\n",
       "4      When I was little my parents took me along to ...          0\n",
       "...                                                  ...        ...\n",
       "24995  Seeing as the vote average was pretty low, and...          1\n",
       "24996  The plot had some wretched, unbelievable twist...          1\n",
       "24997  I am amazed at how this movie(and most others ...          1\n",
       "24998  A Christmas Together actually came before my t...          1\n",
       "24999  Working-class romantic drama from director Mar...          1\n",
       "\n",
       "[25000 rows x 2 columns]"
      ],
      "text/html": [
       "<div>\n",
       "<style scoped>\n",
       "    .dataframe tbody tr th:only-of-type {\n",
       "        vertical-align: middle;\n",
       "    }\n",
       "\n",
       "    .dataframe tbody tr th {\n",
       "        vertical-align: top;\n",
       "    }\n",
       "\n",
       "    .dataframe thead th {\n",
       "        text-align: right;\n",
       "    }\n",
       "</style>\n",
       "<table border=\"1\" class=\"dataframe\">\n",
       "  <thead>\n",
       "    <tr style=\"text-align: right;\">\n",
       "      <th></th>\n",
       "      <th>texto</th>\n",
       "      <th>sentiment</th>\n",
       "    </tr>\n",
       "  </thead>\n",
       "  <tbody>\n",
       "    <tr>\n",
       "      <th>0</th>\n",
       "      <td>Story of a man who has unnatural feelings for ...</td>\n",
       "      <td>0</td>\n",
       "    </tr>\n",
       "    <tr>\n",
       "      <th>1</th>\n",
       "      <td>Airport '77 starts as a brand new luxury 747 p...</td>\n",
       "      <td>0</td>\n",
       "    </tr>\n",
       "    <tr>\n",
       "      <th>2</th>\n",
       "      <td>This film lacked something I couldn't put my f...</td>\n",
       "      <td>0</td>\n",
       "    </tr>\n",
       "    <tr>\n",
       "      <th>3</th>\n",
       "      <td>Sorry everyone,,, I know this is supposed to b...</td>\n",
       "      <td>0</td>\n",
       "    </tr>\n",
       "    <tr>\n",
       "      <th>4</th>\n",
       "      <td>When I was little my parents took me along to ...</td>\n",
       "      <td>0</td>\n",
       "    </tr>\n",
       "    <tr>\n",
       "      <th>...</th>\n",
       "      <td>...</td>\n",
       "      <td>...</td>\n",
       "    </tr>\n",
       "    <tr>\n",
       "      <th>24995</th>\n",
       "      <td>Seeing as the vote average was pretty low, and...</td>\n",
       "      <td>1</td>\n",
       "    </tr>\n",
       "    <tr>\n",
       "      <th>24996</th>\n",
       "      <td>The plot had some wretched, unbelievable twist...</td>\n",
       "      <td>1</td>\n",
       "    </tr>\n",
       "    <tr>\n",
       "      <th>24997</th>\n",
       "      <td>I am amazed at how this movie(and most others ...</td>\n",
       "      <td>1</td>\n",
       "    </tr>\n",
       "    <tr>\n",
       "      <th>24998</th>\n",
       "      <td>A Christmas Together actually came before my t...</td>\n",
       "      <td>1</td>\n",
       "    </tr>\n",
       "    <tr>\n",
       "      <th>24999</th>\n",
       "      <td>Working-class romantic drama from director Mar...</td>\n",
       "      <td>1</td>\n",
       "    </tr>\n",
       "  </tbody>\n",
       "</table>\n",
       "<p>25000 rows × 2 columns</p>\n",
       "</div>"
      ]
     },
     "execution_count": 29,
     "metadata": {},
     "output_type": "execute_result"
    }
   ],
   "execution_count": 29
  },
  {
   "metadata": {},
   "cell_type": "markdown",
   "source": "## Preprocessing Data",
   "id": "5c2ff1bbad866a91"
  },
  {
   "metadata": {
    "ExecuteTime": {
     "end_time": "2025-09-07T02:07:35.734905Z",
     "start_time": "2025-09-07T01:55:36.137081Z"
    }
   },
   "cell_type": "code",
   "source": [
    "def preprocess(text):\n",
    "    doc = nlp(text)\n",
    "    return [token.lemma_ for token in doc if not token.is_stop and token.is_alpha and not token.is_punct]\n",
    "\n",
    "df['texto_preprocessado'] = df['texto'].apply(preprocess)\n",
    "df"
   ],
   "id": "720edaaa0227721c",
   "outputs": [
    {
     "data": {
      "text/plain": [
       "                                                   texto  sentiment  \\\n",
       "0      Story of a man who has unnatural feelings for ...          0   \n",
       "1      Airport '77 starts as a brand new luxury 747 p...          0   \n",
       "2      This film lacked something I couldn't put my f...          0   \n",
       "3      Sorry everyone,,, I know this is supposed to b...          0   \n",
       "4      When I was little my parents took me along to ...          0   \n",
       "...                                                  ...        ...   \n",
       "24995  Seeing as the vote average was pretty low, and...          1   \n",
       "24996  The plot had some wretched, unbelievable twist...          1   \n",
       "24997  I am amazed at how this movie(and most others ...          1   \n",
       "24998  A Christmas Together actually came before my t...          1   \n",
       "24999  Working-class romantic drama from director Mar...          1   \n",
       "\n",
       "                                     texto_preprocessado  \n",
       "0      [story, man, unnatural, feeling, pig, start, o...  \n",
       "1      [airport, start, brand, new, luxury, plane, lo...  \n",
       "2      [film, lack, finger, charisma, lead, actress, ...  \n",
       "3      [sorry, know, suppose, art, film, wow, hand, g...  \n",
       "4      [little, parent, take, theater, Interiors, mov...  \n",
       "...                                                  ...  \n",
       "24995  [see, vote, average, pretty, low, fact, clerk,...  \n",
       "24996  [plot, wretched, unbelievable, twist, chemistr...  \n",
       "24997  [amazed, average, star, low, crappy, movie, av...  \n",
       "24998  [Christmas, actually, come, time, raise, John,...  \n",
       "24999  [working, class, romantic, drama, director, Ma...  \n",
       "\n",
       "[25000 rows x 3 columns]"
      ],
      "text/html": [
       "<div>\n",
       "<style scoped>\n",
       "    .dataframe tbody tr th:only-of-type {\n",
       "        vertical-align: middle;\n",
       "    }\n",
       "\n",
       "    .dataframe tbody tr th {\n",
       "        vertical-align: top;\n",
       "    }\n",
       "\n",
       "    .dataframe thead th {\n",
       "        text-align: right;\n",
       "    }\n",
       "</style>\n",
       "<table border=\"1\" class=\"dataframe\">\n",
       "  <thead>\n",
       "    <tr style=\"text-align: right;\">\n",
       "      <th></th>\n",
       "      <th>texto</th>\n",
       "      <th>sentiment</th>\n",
       "      <th>texto_preprocessado</th>\n",
       "    </tr>\n",
       "  </thead>\n",
       "  <tbody>\n",
       "    <tr>\n",
       "      <th>0</th>\n",
       "      <td>Story of a man who has unnatural feelings for ...</td>\n",
       "      <td>0</td>\n",
       "      <td>[story, man, unnatural, feeling, pig, start, o...</td>\n",
       "    </tr>\n",
       "    <tr>\n",
       "      <th>1</th>\n",
       "      <td>Airport '77 starts as a brand new luxury 747 p...</td>\n",
       "      <td>0</td>\n",
       "      <td>[airport, start, brand, new, luxury, plane, lo...</td>\n",
       "    </tr>\n",
       "    <tr>\n",
       "      <th>2</th>\n",
       "      <td>This film lacked something I couldn't put my f...</td>\n",
       "      <td>0</td>\n",
       "      <td>[film, lack, finger, charisma, lead, actress, ...</td>\n",
       "    </tr>\n",
       "    <tr>\n",
       "      <th>3</th>\n",
       "      <td>Sorry everyone,,, I know this is supposed to b...</td>\n",
       "      <td>0</td>\n",
       "      <td>[sorry, know, suppose, art, film, wow, hand, g...</td>\n",
       "    </tr>\n",
       "    <tr>\n",
       "      <th>4</th>\n",
       "      <td>When I was little my parents took me along to ...</td>\n",
       "      <td>0</td>\n",
       "      <td>[little, parent, take, theater, Interiors, mov...</td>\n",
       "    </tr>\n",
       "    <tr>\n",
       "      <th>...</th>\n",
       "      <td>...</td>\n",
       "      <td>...</td>\n",
       "      <td>...</td>\n",
       "    </tr>\n",
       "    <tr>\n",
       "      <th>24995</th>\n",
       "      <td>Seeing as the vote average was pretty low, and...</td>\n",
       "      <td>1</td>\n",
       "      <td>[see, vote, average, pretty, low, fact, clerk,...</td>\n",
       "    </tr>\n",
       "    <tr>\n",
       "      <th>24996</th>\n",
       "      <td>The plot had some wretched, unbelievable twist...</td>\n",
       "      <td>1</td>\n",
       "      <td>[plot, wretched, unbelievable, twist, chemistr...</td>\n",
       "    </tr>\n",
       "    <tr>\n",
       "      <th>24997</th>\n",
       "      <td>I am amazed at how this movie(and most others ...</td>\n",
       "      <td>1</td>\n",
       "      <td>[amazed, average, star, low, crappy, movie, av...</td>\n",
       "    </tr>\n",
       "    <tr>\n",
       "      <th>24998</th>\n",
       "      <td>A Christmas Together actually came before my t...</td>\n",
       "      <td>1</td>\n",
       "      <td>[Christmas, actually, come, time, raise, John,...</td>\n",
       "    </tr>\n",
       "    <tr>\n",
       "      <th>24999</th>\n",
       "      <td>Working-class romantic drama from director Mar...</td>\n",
       "      <td>1</td>\n",
       "      <td>[working, class, romantic, drama, director, Ma...</td>\n",
       "    </tr>\n",
       "  </tbody>\n",
       "</table>\n",
       "<p>25000 rows × 3 columns</p>\n",
       "</div>"
      ]
     },
     "execution_count": 31,
     "metadata": {},
     "output_type": "execute_result"
    }
   ],
   "execution_count": 31
  },
  {
   "metadata": {},
   "cell_type": "markdown",
   "source": "## Vectorizing Data",
   "id": "aec7f7501b3e86e1"
  },
  {
   "metadata": {
    "ExecuteTime": {
     "end_time": "2025-09-07T02:07:36.808219Z",
     "start_time": "2025-09-07T02:07:35.833506Z"
    }
   },
   "cell_type": "code",
   "source": [
    "from tensorflow.keras.preprocessing.text import Tokenizer\n",
    "from tensorflow.keras.preprocessing.sequence import pad_sequences\n",
    "import numpy as np\n",
    "\n",
    "all_processed_reviews = df['texto_preprocessado'].tolist()\n",
    "\n",
    "MAX_VOCAB_SIZE = 10000\n",
    "\n",
    "tokenizer = Tokenizer(num_words=MAX_VOCAB_SIZE, oov_token=\"<unk>\")\n",
    "tokenizer.fit_on_texts(all_processed_reviews)\n",
    "\n",
    "word_index = tokenizer.word_index\n",
    "print(f\"Encontradas {len(word_index)} palavras únicas.\")"
   ],
   "id": "c9999c0e3f9a17e7",
   "outputs": [
    {
     "name": "stdout",
     "output_type": "stream",
     "text": [
      "Encontradas 61623 palavras únicas.\n"
     ]
    }
   ],
   "execution_count": 32
  },
  {
   "metadata": {
    "ExecuteTime": {
     "end_time": "2025-09-07T02:07:37.754557Z",
     "start_time": "2025-09-07T02:07:36.840890Z"
    }
   },
   "cell_type": "code",
   "source": [
    "sequences = tokenizer.texts_to_sequences(all_processed_reviews)\n",
    "print(\"\\nSequências de inteiros:\")\n",
    "print(sequences)"
   ],
   "id": "ace5ba1331e523a0",
   "outputs": [
    {
     "name": "stderr",
     "output_type": "stream",
     "text": [
      "IOPub data rate exceeded.\n",
      "The Jupyter server will temporarily stop sending output\n",
      "to the client in order to avoid crashing it.\n",
      "To change this limit, set the config variable\n",
      "`--ServerApp.iopub_data_rate_limit`.\n",
      "\n",
      "Current values:\n",
      "ServerApp.iopub_data_rate_limit=1000000.0 (bytes/sec)\n",
      "ServerApp.rate_limit_window=3.0 (secs)\n",
      "\n"
     ]
    }
   ],
   "execution_count": 33
  },
  {
   "metadata": {
    "ExecuteTime": {
     "end_time": "2025-09-07T02:07:37.877721Z",
     "start_time": "2025-09-07T02:07:37.803168Z"
    }
   },
   "cell_type": "code",
   "source": [
    "MAX_SEQUENCE_LENGTH = 50\n",
    "\n",
    "X = pad_sequences(sequences, maxlen=MAX_SEQUENCE_LENGTH, padding='pre')\n",
    "\n",
    "y = np.array(df['sentiment'])\n",
    "\n",
    "print(\"\\nSequências com padding (formato final para o Keras):\")\n",
    "print(X)\n",
    "print(\"\\nShape do tensor de dados (X):\", X.shape)\n",
    "print(\"Shape do tensor de rótulos (y):\", y.shape)"
   ],
   "id": "d50b67499ea085f2",
   "outputs": [
    {
     "name": "stdout",
     "output_type": "stream",
     "text": [
      "\n",
      "Sequências com padding (formato final para o Keras):\n",
      "[[ 510   13 1025 ... 6255   11 2773]\n",
      " [ 471 3263   58 ...  164    1 3549]\n",
      " [   0    0    0 ... 1710  495  954]\n",
      " ...\n",
      " [ 109   43   18 ...  826   78 6204]\n",
      " [ 776  208 7483 ...   79 7190 1401]\n",
      " [ 377 2661  474 ...  204 2207   19]]\n",
      "\n",
      "Shape do tensor de dados (X): (25000, 50)\n",
      "Shape do tensor de rótulos (y): (25000,)\n"
     ]
    }
   ],
   "execution_count": 34
  },
  {
   "metadata": {
    "ExecuteTime": {
     "end_time": "2025-09-07T02:07:37.954799Z",
     "start_time": "2025-09-07T02:07:37.909301Z"
    }
   },
   "cell_type": "code",
   "source": [
    "from tensorflow.keras.models import Sequential\n",
    "from tensorflow.keras.layers import Embedding, LSTM, Dense, Bidirectional\n",
    "\n",
    "EMBEDDING_DIM = 64\n",
    "\n",
    "model = Sequential()\n",
    "\n",
    "model.add(Embedding(input_dim=MAX_VOCAB_SIZE,\n",
    "                    output_dim=EMBEDDING_DIM,\n",
    "                    input_length=MAX_SEQUENCE_LENGTH))\n",
    "\n",
    "model.add(Bidirectional(LSTM(64)))\n",
    "\n",
    "model.add(Dense(1, activation='sigmoid'))\n",
    "\n",
    "model.compile(optimizer='adam',\n",
    "              loss='binary_crossentropy',\n",
    "              metrics=['accuracy'])\n",
    "\n",
    "model.summary()"
   ],
   "id": "84eb47b4e1968493",
   "outputs": [
    {
     "name": "stderr",
     "output_type": "stream",
     "text": [
      "C:\\Users\\Victor Dantas\\PycharmProjects\\nlp_with_spacy\\.venv\\lib\\site-packages\\keras\\src\\layers\\core\\embedding.py:97: UserWarning: Argument `input_length` is deprecated. Just remove it.\n",
      "  warnings.warn(\n"
     ]
    },
    {
     "data": {
      "text/plain": [
       "\u001B[1mModel: \"sequential_1\"\u001B[0m\n"
      ],
      "text/html": [
       "<pre style=\"white-space:pre;overflow-x:auto;line-height:normal;font-family:Menlo,'DejaVu Sans Mono',consolas,'Courier New',monospace\"><span style=\"font-weight: bold\">Model: \"sequential_1\"</span>\n",
       "</pre>\n"
      ]
     },
     "metadata": {},
     "output_type": "display_data"
    },
    {
     "data": {
      "text/plain": [
       "┏━━━━━━━━━━━━━━━━━━━━━━━━━━━━━━━━━┳━━━━━━━━━━━━━━━━━━━━━━━━┳━━━━━━━━━━━━━━━┓\n",
       "┃\u001B[1m \u001B[0m\u001B[1mLayer (type)                   \u001B[0m\u001B[1m \u001B[0m┃\u001B[1m \u001B[0m\u001B[1mOutput Shape          \u001B[0m\u001B[1m \u001B[0m┃\u001B[1m \u001B[0m\u001B[1m      Param #\u001B[0m\u001B[1m \u001B[0m┃\n",
       "┡━━━━━━━━━━━━━━━━━━━━━━━━━━━━━━━━━╇━━━━━━━━━━━━━━━━━━━━━━━━╇━━━━━━━━━━━━━━━┩\n",
       "│ embedding_1 (\u001B[38;5;33mEmbedding\u001B[0m)         │ ?                      │   \u001B[38;5;34m0\u001B[0m (unbuilt) │\n",
       "├─────────────────────────────────┼────────────────────────┼───────────────┤\n",
       "│ bidirectional_1 (\u001B[38;5;33mBidirectional\u001B[0m) │ ?                      │   \u001B[38;5;34m0\u001B[0m (unbuilt) │\n",
       "├─────────────────────────────────┼────────────────────────┼───────────────┤\n",
       "│ dense_1 (\u001B[38;5;33mDense\u001B[0m)                 │ ?                      │   \u001B[38;5;34m0\u001B[0m (unbuilt) │\n",
       "└─────────────────────────────────┴────────────────────────┴───────────────┘\n"
      ],
      "text/html": [
       "<pre style=\"white-space:pre;overflow-x:auto;line-height:normal;font-family:Menlo,'DejaVu Sans Mono',consolas,'Courier New',monospace\">┏━━━━━━━━━━━━━━━━━━━━━━━━━━━━━━━━━┳━━━━━━━━━━━━━━━━━━━━━━━━┳━━━━━━━━━━━━━━━┓\n",
       "┃<span style=\"font-weight: bold\"> Layer (type)                    </span>┃<span style=\"font-weight: bold\"> Output Shape           </span>┃<span style=\"font-weight: bold\">       Param # </span>┃\n",
       "┡━━━━━━━━━━━━━━━━━━━━━━━━━━━━━━━━━╇━━━━━━━━━━━━━━━━━━━━━━━━╇━━━━━━━━━━━━━━━┩\n",
       "│ embedding_1 (<span style=\"color: #0087ff; text-decoration-color: #0087ff\">Embedding</span>)         │ ?                      │   <span style=\"color: #00af00; text-decoration-color: #00af00\">0</span> (unbuilt) │\n",
       "├─────────────────────────────────┼────────────────────────┼───────────────┤\n",
       "│ bidirectional_1 (<span style=\"color: #0087ff; text-decoration-color: #0087ff\">Bidirectional</span>) │ ?                      │   <span style=\"color: #00af00; text-decoration-color: #00af00\">0</span> (unbuilt) │\n",
       "├─────────────────────────────────┼────────────────────────┼───────────────┤\n",
       "│ dense_1 (<span style=\"color: #0087ff; text-decoration-color: #0087ff\">Dense</span>)                 │ ?                      │   <span style=\"color: #00af00; text-decoration-color: #00af00\">0</span> (unbuilt) │\n",
       "└─────────────────────────────────┴────────────────────────┴───────────────┘\n",
       "</pre>\n"
      ]
     },
     "metadata": {},
     "output_type": "display_data"
    },
    {
     "data": {
      "text/plain": [
       "\u001B[1m Total params: \u001B[0m\u001B[38;5;34m0\u001B[0m (0.00 B)\n"
      ],
      "text/html": [
       "<pre style=\"white-space:pre;overflow-x:auto;line-height:normal;font-family:Menlo,'DejaVu Sans Mono',consolas,'Courier New',monospace\"><span style=\"font-weight: bold\"> Total params: </span><span style=\"color: #00af00; text-decoration-color: #00af00\">0</span> (0.00 B)\n",
       "</pre>\n"
      ]
     },
     "metadata": {},
     "output_type": "display_data"
    },
    {
     "data": {
      "text/plain": [
       "\u001B[1m Trainable params: \u001B[0m\u001B[38;5;34m0\u001B[0m (0.00 B)\n"
      ],
      "text/html": [
       "<pre style=\"white-space:pre;overflow-x:auto;line-height:normal;font-family:Menlo,'DejaVu Sans Mono',consolas,'Courier New',monospace\"><span style=\"font-weight: bold\"> Trainable params: </span><span style=\"color: #00af00; text-decoration-color: #00af00\">0</span> (0.00 B)\n",
       "</pre>\n"
      ]
     },
     "metadata": {},
     "output_type": "display_data"
    },
    {
     "data": {
      "text/plain": [
       "\u001B[1m Non-trainable params: \u001B[0m\u001B[38;5;34m0\u001B[0m (0.00 B)\n"
      ],
      "text/html": [
       "<pre style=\"white-space:pre;overflow-x:auto;line-height:normal;font-family:Menlo,'DejaVu Sans Mono',consolas,'Courier New',monospace\"><span style=\"font-weight: bold\"> Non-trainable params: </span><span style=\"color: #00af00; text-decoration-color: #00af00\">0</span> (0.00 B)\n",
       "</pre>\n"
      ]
     },
     "metadata": {},
     "output_type": "display_data"
    }
   ],
   "execution_count": 35
  },
  {
   "metadata": {
    "ExecuteTime": {
     "end_time": "2025-09-07T02:11:18.279369Z",
     "start_time": "2025-09-07T02:10:17.454528Z"
    }
   },
   "cell_type": "code",
   "source": [
    "from sklearn.model_selection import train_test_split\n",
    "\n",
    "X_train, X_test, y_train, y_test = train_test_split(X, y, test_size=0.2)\n",
    "X_train, X_val, y_train, y_val = train_test_split(X, y, test_size=0.2)\n",
    "\n",
    "history = model.fit(\n",
    "    X,\n",
    "    y,\n",
    "    validation_data=(X_val, y_val),\n",
    "    epochs=10,\n",
    "    batch_size=64\n",
    ")"
   ],
   "id": "8119ccc197f78b69",
   "outputs": [
    {
     "name": "stdout",
     "output_type": "stream",
     "text": [
      "Epoch 1/10\n",
      "\u001B[1m391/391\u001B[0m \u001B[32m━━━━━━━━━━━━━━━━━━━━\u001B[0m\u001B[37m\u001B[0m \u001B[1m8s\u001B[0m 17ms/step - accuracy: 0.9134 - loss: 0.2207 - val_accuracy: 0.9262 - val_loss: 0.1905\n",
      "Epoch 2/10\n",
      "\u001B[1m391/391\u001B[0m \u001B[32m━━━━━━━━━━━━━━━━━━━━\u001B[0m\u001B[37m\u001B[0m \u001B[1m6s\u001B[0m 16ms/step - accuracy: 0.9279 - loss: 0.1901 - val_accuracy: 0.9452 - val_loss: 0.1604\n",
      "Epoch 3/10\n",
      "\u001B[1m391/391\u001B[0m \u001B[32m━━━━━━━━━━━━━━━━━━━━\u001B[0m\u001B[37m\u001B[0m \u001B[1m6s\u001B[0m 15ms/step - accuracy: 0.9415 - loss: 0.1619 - val_accuracy: 0.9598 - val_loss: 0.1294\n",
      "Epoch 4/10\n",
      "\u001B[1m391/391\u001B[0m \u001B[32m━━━━━━━━━━━━━━━━━━━━\u001B[0m\u001B[37m\u001B[0m \u001B[1m6s\u001B[0m 14ms/step - accuracy: 0.9558 - loss: 0.1307 - val_accuracy: 0.9724 - val_loss: 0.0948\n",
      "Epoch 5/10\n",
      "\u001B[1m391/391\u001B[0m \u001B[32m━━━━━━━━━━━━━━━━━━━━\u001B[0m\u001B[37m\u001B[0m \u001B[1m6s\u001B[0m 14ms/step - accuracy: 0.9684 - loss: 0.0988 - val_accuracy: 0.9828 - val_loss: 0.0688\n",
      "Epoch 6/10\n",
      "\u001B[1m391/391\u001B[0m \u001B[32m━━━━━━━━━━━━━━━━━━━━\u001B[0m\u001B[37m\u001B[0m \u001B[1m6s\u001B[0m 15ms/step - accuracy: 0.9800 - loss: 0.0706 - val_accuracy: 0.9888 - val_loss: 0.0487\n",
      "Epoch 7/10\n",
      "\u001B[1m391/391\u001B[0m \u001B[32m━━━━━━━━━━━━━━━━━━━━\u001B[0m\u001B[37m\u001B[0m \u001B[1m6s\u001B[0m 15ms/step - accuracy: 0.9859 - loss: 0.0507 - val_accuracy: 0.9928 - val_loss: 0.0316\n",
      "Epoch 8/10\n",
      "\u001B[1m391/391\u001B[0m \u001B[32m━━━━━━━━━━━━━━━━━━━━\u001B[0m\u001B[37m\u001B[0m \u001B[1m6s\u001B[0m 15ms/step - accuracy: 0.9904 - loss: 0.0385 - val_accuracy: 0.9946 - val_loss: 0.0218\n",
      "Epoch 9/10\n",
      "\u001B[1m391/391\u001B[0m \u001B[32m━━━━━━━━━━━━━━━━━━━━\u001B[0m\u001B[37m\u001B[0m \u001B[1m6s\u001B[0m 15ms/step - accuracy: 0.9928 - loss: 0.0281 - val_accuracy: 0.9948 - val_loss: 0.0204\n",
      "Epoch 10/10\n",
      "\u001B[1m391/391\u001B[0m \u001B[32m━━━━━━━━━━━━━━━━━━━━\u001B[0m\u001B[37m\u001B[0m \u001B[1m6s\u001B[0m 15ms/step - accuracy: 0.9943 - loss: 0.0231 - val_accuracy: 0.9960 - val_loss: 0.0158\n"
     ]
    }
   ],
   "execution_count": 37
  },
  {
   "metadata": {
    "ExecuteTime": {
     "end_time": "2025-09-07T02:11:18.992688Z",
     "start_time": "2025-09-07T02:11:18.359501Z"
    }
   },
   "cell_type": "code",
   "source": "model.evaluate(X_test, y_test) * 100",
   "id": "fb9be8a281dda273",
   "outputs": [
    {
     "name": "stdout",
     "output_type": "stream",
     "text": [
      "\u001B[1m157/157\u001B[0m \u001B[32m━━━━━━━━━━━━━━━━━━━━\u001B[0m\u001B[37m\u001B[0m \u001B[1m1s\u001B[0m 4ms/step - accuracy: 0.9966 - loss: 0.0157\n"
     ]
    },
    {
     "data": {
      "text/plain": [
       "[0.015669720247387886,\n",
       " 0.9965999722480774,\n",
       " 0.015669720247387886,\n",
       " 0.9965999722480774,\n",
       " 0.015669720247387886,\n",
       " 0.9965999722480774,\n",
       " 0.015669720247387886,\n",
       " 0.9965999722480774,\n",
       " 0.015669720247387886,\n",
       " 0.9965999722480774,\n",
       " 0.015669720247387886,\n",
       " 0.9965999722480774,\n",
       " 0.015669720247387886,\n",
       " 0.9965999722480774,\n",
       " 0.015669720247387886,\n",
       " 0.9965999722480774,\n",
       " 0.015669720247387886,\n",
       " 0.9965999722480774,\n",
       " 0.015669720247387886,\n",
       " 0.9965999722480774,\n",
       " 0.015669720247387886,\n",
       " 0.9965999722480774,\n",
       " 0.015669720247387886,\n",
       " 0.9965999722480774,\n",
       " 0.015669720247387886,\n",
       " 0.9965999722480774,\n",
       " 0.015669720247387886,\n",
       " 0.9965999722480774,\n",
       " 0.015669720247387886,\n",
       " 0.9965999722480774,\n",
       " 0.015669720247387886,\n",
       " 0.9965999722480774,\n",
       " 0.015669720247387886,\n",
       " 0.9965999722480774,\n",
       " 0.015669720247387886,\n",
       " 0.9965999722480774,\n",
       " 0.015669720247387886,\n",
       " 0.9965999722480774,\n",
       " 0.015669720247387886,\n",
       " 0.9965999722480774,\n",
       " 0.015669720247387886,\n",
       " 0.9965999722480774,\n",
       " 0.015669720247387886,\n",
       " 0.9965999722480774,\n",
       " 0.015669720247387886,\n",
       " 0.9965999722480774,\n",
       " 0.015669720247387886,\n",
       " 0.9965999722480774,\n",
       " 0.015669720247387886,\n",
       " 0.9965999722480774,\n",
       " 0.015669720247387886,\n",
       " 0.9965999722480774,\n",
       " 0.015669720247387886,\n",
       " 0.9965999722480774,\n",
       " 0.015669720247387886,\n",
       " 0.9965999722480774,\n",
       " 0.015669720247387886,\n",
       " 0.9965999722480774,\n",
       " 0.015669720247387886,\n",
       " 0.9965999722480774,\n",
       " 0.015669720247387886,\n",
       " 0.9965999722480774,\n",
       " 0.015669720247387886,\n",
       " 0.9965999722480774,\n",
       " 0.015669720247387886,\n",
       " 0.9965999722480774,\n",
       " 0.015669720247387886,\n",
       " 0.9965999722480774,\n",
       " 0.015669720247387886,\n",
       " 0.9965999722480774,\n",
       " 0.015669720247387886,\n",
       " 0.9965999722480774,\n",
       " 0.015669720247387886,\n",
       " 0.9965999722480774,\n",
       " 0.015669720247387886,\n",
       " 0.9965999722480774,\n",
       " 0.015669720247387886,\n",
       " 0.9965999722480774,\n",
       " 0.015669720247387886,\n",
       " 0.9965999722480774,\n",
       " 0.015669720247387886,\n",
       " 0.9965999722480774,\n",
       " 0.015669720247387886,\n",
       " 0.9965999722480774,\n",
       " 0.015669720247387886,\n",
       " 0.9965999722480774,\n",
       " 0.015669720247387886,\n",
       " 0.9965999722480774,\n",
       " 0.015669720247387886,\n",
       " 0.9965999722480774,\n",
       " 0.015669720247387886,\n",
       " 0.9965999722480774,\n",
       " 0.015669720247387886,\n",
       " 0.9965999722480774,\n",
       " 0.015669720247387886,\n",
       " 0.9965999722480774,\n",
       " 0.015669720247387886,\n",
       " 0.9965999722480774,\n",
       " 0.015669720247387886,\n",
       " 0.9965999722480774,\n",
       " 0.015669720247387886,\n",
       " 0.9965999722480774,\n",
       " 0.015669720247387886,\n",
       " 0.9965999722480774,\n",
       " 0.015669720247387886,\n",
       " 0.9965999722480774,\n",
       " 0.015669720247387886,\n",
       " 0.9965999722480774,\n",
       " 0.015669720247387886,\n",
       " 0.9965999722480774,\n",
       " 0.015669720247387886,\n",
       " 0.9965999722480774,\n",
       " 0.015669720247387886,\n",
       " 0.9965999722480774,\n",
       " 0.015669720247387886,\n",
       " 0.9965999722480774,\n",
       " 0.015669720247387886,\n",
       " 0.9965999722480774,\n",
       " 0.015669720247387886,\n",
       " 0.9965999722480774,\n",
       " 0.015669720247387886,\n",
       " 0.9965999722480774,\n",
       " 0.015669720247387886,\n",
       " 0.9965999722480774,\n",
       " 0.015669720247387886,\n",
       " 0.9965999722480774,\n",
       " 0.015669720247387886,\n",
       " 0.9965999722480774,\n",
       " 0.015669720247387886,\n",
       " 0.9965999722480774,\n",
       " 0.015669720247387886,\n",
       " 0.9965999722480774,\n",
       " 0.015669720247387886,\n",
       " 0.9965999722480774,\n",
       " 0.015669720247387886,\n",
       " 0.9965999722480774,\n",
       " 0.015669720247387886,\n",
       " 0.9965999722480774,\n",
       " 0.015669720247387886,\n",
       " 0.9965999722480774,\n",
       " 0.015669720247387886,\n",
       " 0.9965999722480774,\n",
       " 0.015669720247387886,\n",
       " 0.9965999722480774,\n",
       " 0.015669720247387886,\n",
       " 0.9965999722480774,\n",
       " 0.015669720247387886,\n",
       " 0.9965999722480774,\n",
       " 0.015669720247387886,\n",
       " 0.9965999722480774,\n",
       " 0.015669720247387886,\n",
       " 0.9965999722480774,\n",
       " 0.015669720247387886,\n",
       " 0.9965999722480774,\n",
       " 0.015669720247387886,\n",
       " 0.9965999722480774,\n",
       " 0.015669720247387886,\n",
       " 0.9965999722480774,\n",
       " 0.015669720247387886,\n",
       " 0.9965999722480774,\n",
       " 0.015669720247387886,\n",
       " 0.9965999722480774,\n",
       " 0.015669720247387886,\n",
       " 0.9965999722480774,\n",
       " 0.015669720247387886,\n",
       " 0.9965999722480774,\n",
       " 0.015669720247387886,\n",
       " 0.9965999722480774,\n",
       " 0.015669720247387886,\n",
       " 0.9965999722480774,\n",
       " 0.015669720247387886,\n",
       " 0.9965999722480774,\n",
       " 0.015669720247387886,\n",
       " 0.9965999722480774,\n",
       " 0.015669720247387886,\n",
       " 0.9965999722480774,\n",
       " 0.015669720247387886,\n",
       " 0.9965999722480774,\n",
       " 0.015669720247387886,\n",
       " 0.9965999722480774,\n",
       " 0.015669720247387886,\n",
       " 0.9965999722480774,\n",
       " 0.015669720247387886,\n",
       " 0.9965999722480774,\n",
       " 0.015669720247387886,\n",
       " 0.9965999722480774,\n",
       " 0.015669720247387886,\n",
       " 0.9965999722480774,\n",
       " 0.015669720247387886,\n",
       " 0.9965999722480774,\n",
       " 0.015669720247387886,\n",
       " 0.9965999722480774,\n",
       " 0.015669720247387886,\n",
       " 0.9965999722480774,\n",
       " 0.015669720247387886,\n",
       " 0.9965999722480774,\n",
       " 0.015669720247387886,\n",
       " 0.9965999722480774,\n",
       " 0.015669720247387886,\n",
       " 0.9965999722480774]"
      ]
     },
     "execution_count": 38,
     "metadata": {},
     "output_type": "execute_result"
    }
   ],
   "execution_count": 38
  },
  {
   "metadata": {},
   "cell_type": "code",
   "outputs": [],
   "execution_count": null,
   "source": "git",
   "id": "7ced86b857aeebae"
  }
 ],
 "metadata": {
  "kernelspec": {
   "display_name": "Python 3",
   "language": "python",
   "name": "python3"
  },
  "language_info": {
   "codemirror_mode": {
    "name": "ipython",
    "version": 2
   },
   "file_extension": ".py",
   "mimetype": "text/x-python",
   "name": "python",
   "nbconvert_exporter": "python",
   "pygments_lexer": "ipython2",
   "version": "2.7.6"
  }
 },
 "nbformat": 4,
 "nbformat_minor": 5
}
